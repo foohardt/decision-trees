{
 "cells": [
  {
   "cell_type": "markdown",
   "id": "8a61da3f",
   "metadata": {},
   "source": [
    "## Exercise 1: Classify data manually and derive decision tree by hand"
   ]
  },
  {
   "cell_type": "code",
   "execution_count": 82,
   "id": "74d89ba1",
   "metadata": {},
   "outputs": [
    {
     "data": {
      "text/html": [
       "<img src=\"people_buy_computers_by_hand.png\"/>"
      ],
      "text/plain": [
       "<IPython.core.display.Image object>"
      ]
     },
     "execution_count": 82,
     "metadata": {},
     "output_type": "execute_result"
    }
   ],
   "source": [
    "# Import and print result for manually classification of https://drive.google.com/file/d/1E3bFrHnMGGmBgyAk9vAVnHGpQ8Z_asOP/view\n",
    "from IPython.display import Image\n",
    "img_one = 'people_buy_computers_by_hand.png'\n",
    "Image(url = img_one)"
   ]
  },
  {
   "cell_type": "markdown",
   "id": "ac171148",
   "metadata": {},
   "source": [
    "## Exercise 2: Classify data using Sklearn Decision Tree Classifier"
   ]
  },
  {
   "cell_type": "code",
   "execution_count": 83,
   "id": "7ca6cca6",
   "metadata": {},
   "outputs": [],
   "source": [
    "import pandas as pd\n",
    "from sklearn.datasets import load_iris\n",
    "from sklearn.tree import DecisionTreeClassifier"
   ]
  },
  {
   "cell_type": "code",
   "execution_count": 84,
   "id": "98d85ce4",
   "metadata": {},
   "outputs": [
    {
     "name": "stdout",
     "output_type": "stream",
     "text": [
      "      age  income student credit_rating target\n",
      "0    <=30    high      no          fair     no\n",
      "1    <=30    high      no     excellent     no\n",
      "2  31..40    high      no          fair    yes\n",
      "3     >40  medium      no          fair    yes\n",
      "4     >40     low     yes          fair    yes\n"
     ]
    }
   ],
   "source": [
    "# Import data and print head\n",
    "df = pd.read_csv('people_buy_computers.csv', delimiter=';')\n",
    "print(df.head())"
   ]
  },
  {
   "cell_type": "code",
   "execution_count": 85,
   "id": "9649f047",
   "metadata": {},
   "outputs": [
    {
     "name": "stdout",
     "output_type": "stream",
     "text": [
      "    age  income  student  credit_rating  target\n",
      "0     0       2        0              0       0\n",
      "1     0       2        0              1       0\n",
      "2     1       2        0              0       1\n",
      "3     2       1        0              0       1\n",
      "4     2       0        1              0       1\n",
      "5     2       0        1              1       0\n",
      "6     1       0        1              1       1\n",
      "7     0       1        0              0       0\n",
      "8     0       0        1              0       1\n",
      "9     2       1        1              0       1\n",
      "10    0       1        1              1       1\n",
      "11    1       1        0              1       1\n",
      "12    1       2        1              0       1\n",
      "13    2       1        0              1       0\n",
      "14    0       1        0              1       0\n",
      "15    0       0        0              0       0\n",
      "16    0       0        0              1       0\n",
      "17    1       0        1              0       1\n",
      "18    2       1        1              1       1\n",
      "19    1       2        0              1       1\n"
     ]
    }
   ],
   "source": [
    "# Convert string values to numerical values\n",
    "\n",
    "age = {\"<=30\": 0, \"31..40\": 1, \">40\": 2}\n",
    "income = {\"low\": 0, \"medium\": 1, \"high\": 2}\n",
    "student = {\"no\": 0, \"yes\": 1}\n",
    "credit_rating = {\"fair\": 0, \"excellent\": 1}\n",
    "target = {\"no\": 0, \"yes\": 1}\n",
    "\n",
    "df[\"age\"] = df[\"age\"].map(age)\n",
    "df[\"income\"] = df[\"income\"].map(income)\n",
    "df[\"student\"] = df[\"student\"].map(student)\n",
    "df[\"credit_rating\"] = df[\"credit_rating\"].map(credit_rating)\n",
    "df[\"target\"] = df[\"target\"].map(target)\n",
    "\n",
    "\n",
    "\n",
    "print(df) "
   ]
  },
  {
   "cell_type": "code",
   "execution_count": 86,
   "id": "3513030d",
   "metadata": {},
   "outputs": [
    {
     "name": "stdout",
     "output_type": "stream",
     "text": [
      "    age  income  student  credit_rating\n",
      "0     0       2        0              0\n",
      "1     0       2        0              1\n",
      "2     1       2        0              0\n",
      "3     2       1        0              0\n",
      "4     2       0        1              0\n",
      "5     2       0        1              1\n",
      "6     1       0        1              1\n",
      "7     0       1        0              0\n",
      "8     0       0        1              0\n",
      "9     2       1        1              0\n",
      "10    0       1        1              1\n",
      "11    1       1        0              1\n",
      "12    1       2        1              0\n",
      "13    2       1        0              1\n",
      "14    0       1        0              1\n",
      "15    0       0        0              0\n",
      "16    0       0        0              1\n",
      "17    1       0        1              0\n",
      "18    2       1        1              1\n",
      "19    1       2        0              1 0     0\n",
      "1     0\n",
      "2     1\n",
      "3     1\n",
      "4     1\n",
      "5     0\n",
      "6     1\n",
      "7     0\n",
      "8     1\n",
      "9     1\n",
      "10    1\n",
      "11    1\n",
      "12    1\n",
      "13    0\n",
      "14    0\n",
      "15    0\n",
      "16    0\n",
      "17    1\n",
      "18    1\n",
      "19    1\n",
      "Name: target, dtype: int64\n"
     ]
    }
   ],
   "source": [
    "X = df.loc[:, \"age\":\"credit_rating\"]\n",
    "y = df['target']\n",
    "print(X, y)"
   ]
  },
  {
   "cell_type": "code",
   "execution_count": 87,
   "id": "d49191bd",
   "metadata": {},
   "outputs": [
    {
     "data": {
      "text/html": [
       "<style>#sk-container-id-6 {color: black;background-color: white;}#sk-container-id-6 pre{padding: 0;}#sk-container-id-6 div.sk-toggleable {background-color: white;}#sk-container-id-6 label.sk-toggleable__label {cursor: pointer;display: block;width: 100%;margin-bottom: 0;padding: 0.3em;box-sizing: border-box;text-align: center;}#sk-container-id-6 label.sk-toggleable__label-arrow:before {content: \"▸\";float: left;margin-right: 0.25em;color: #696969;}#sk-container-id-6 label.sk-toggleable__label-arrow:hover:before {color: black;}#sk-container-id-6 div.sk-estimator:hover label.sk-toggleable__label-arrow:before {color: black;}#sk-container-id-6 div.sk-toggleable__content {max-height: 0;max-width: 0;overflow: hidden;text-align: left;background-color: #f0f8ff;}#sk-container-id-6 div.sk-toggleable__content pre {margin: 0.2em;color: black;border-radius: 0.25em;background-color: #f0f8ff;}#sk-container-id-6 input.sk-toggleable__control:checked~div.sk-toggleable__content {max-height: 200px;max-width: 100%;overflow: auto;}#sk-container-id-6 input.sk-toggleable__control:checked~label.sk-toggleable__label-arrow:before {content: \"▾\";}#sk-container-id-6 div.sk-estimator input.sk-toggleable__control:checked~label.sk-toggleable__label {background-color: #d4ebff;}#sk-container-id-6 div.sk-label input.sk-toggleable__control:checked~label.sk-toggleable__label {background-color: #d4ebff;}#sk-container-id-6 input.sk-hidden--visually {border: 0;clip: rect(1px 1px 1px 1px);clip: rect(1px, 1px, 1px, 1px);height: 1px;margin: -1px;overflow: hidden;padding: 0;position: absolute;width: 1px;}#sk-container-id-6 div.sk-estimator {font-family: monospace;background-color: #f0f8ff;border: 1px dotted black;border-radius: 0.25em;box-sizing: border-box;margin-bottom: 0.5em;}#sk-container-id-6 div.sk-estimator:hover {background-color: #d4ebff;}#sk-container-id-6 div.sk-parallel-item::after {content: \"\";width: 100%;border-bottom: 1px solid gray;flex-grow: 1;}#sk-container-id-6 div.sk-label:hover label.sk-toggleable__label {background-color: #d4ebff;}#sk-container-id-6 div.sk-serial::before {content: \"\";position: absolute;border-left: 1px solid gray;box-sizing: border-box;top: 0;bottom: 0;left: 50%;z-index: 0;}#sk-container-id-6 div.sk-serial {display: flex;flex-direction: column;align-items: center;background-color: white;padding-right: 0.2em;padding-left: 0.2em;position: relative;}#sk-container-id-6 div.sk-item {position: relative;z-index: 1;}#sk-container-id-6 div.sk-parallel {display: flex;align-items: stretch;justify-content: center;background-color: white;position: relative;}#sk-container-id-6 div.sk-item::before, #sk-container-id-6 div.sk-parallel-item::before {content: \"\";position: absolute;border-left: 1px solid gray;box-sizing: border-box;top: 0;bottom: 0;left: 50%;z-index: -1;}#sk-container-id-6 div.sk-parallel-item {display: flex;flex-direction: column;z-index: 1;position: relative;background-color: white;}#sk-container-id-6 div.sk-parallel-item:first-child::after {align-self: flex-end;width: 50%;}#sk-container-id-6 div.sk-parallel-item:last-child::after {align-self: flex-start;width: 50%;}#sk-container-id-6 div.sk-parallel-item:only-child::after {width: 0;}#sk-container-id-6 div.sk-dashed-wrapped {border: 1px dashed gray;margin: 0 0.4em 0.5em 0.4em;box-sizing: border-box;padding-bottom: 0.4em;background-color: white;}#sk-container-id-6 div.sk-label label {font-family: monospace;font-weight: bold;display: inline-block;line-height: 1.2em;}#sk-container-id-6 div.sk-label-container {text-align: center;}#sk-container-id-6 div.sk-container {/* jupyter's `normalize.less` sets `[hidden] { display: none; }` but bootstrap.min.css set `[hidden] { display: none !important; }` so we also need the `!important` here to be able to override the default hidden behavior on the sphinx rendered scikit-learn.org. See: https://github.com/scikit-learn/scikit-learn/issues/21755 */display: inline-block !important;position: relative;}#sk-container-id-6 div.sk-text-repr-fallback {display: none;}</style><div id=\"sk-container-id-6\" class=\"sk-top-container\"><div class=\"sk-text-repr-fallback\"><pre>DecisionTreeClassifier(max_depth=3)</pre><b>In a Jupyter environment, please rerun this cell to show the HTML representation or trust the notebook. <br />On GitHub, the HTML representation is unable to render, please try loading this page with nbviewer.org.</b></div><div class=\"sk-container\" hidden><div class=\"sk-item\"><div class=\"sk-estimator sk-toggleable\"><input class=\"sk-toggleable__control sk-hidden--visually\" id=\"sk-estimator-id-6\" type=\"checkbox\" checked><label for=\"sk-estimator-id-6\" class=\"sk-toggleable__label sk-toggleable__label-arrow\">DecisionTreeClassifier</label><div class=\"sk-toggleable__content\"><pre>DecisionTreeClassifier(max_depth=3)</pre></div></div></div></div></div>"
      ],
      "text/plain": [
       "DecisionTreeClassifier(max_depth=3)"
      ]
     },
     "execution_count": 87,
     "metadata": {},
     "output_type": "execute_result"
    }
   ],
   "source": [
    "tree_clf = DecisionTreeClassifier(max_depth=3)\n",
    "tree_clf.fit(X, y)"
   ]
  },
  {
   "cell_type": "code",
   "execution_count": 88,
   "id": "fe724b07",
   "metadata": {},
   "outputs": [],
   "source": [
    "# Export result to dot file\n",
    "from sklearn.tree import export_graphviz\n",
    " \n",
    "export_graphviz(\n",
    "    tree_clf,\n",
    "    out_file = \"people_buy_computers.dot\",\n",
    "        feature_names = [\"age\", \"income\", \"student\", \"credit_rating\"],\n",
    "        class_names = [\"no\", \"yes\"],\n",
    "        rounded = True,\n",
    "        filled = True\n",
    ")"
   ]
  },
  {
   "cell_type": "code",
   "execution_count": 89,
   "id": "9d88440a",
   "metadata": {},
   "outputs": [
    {
     "data": {
      "text/html": [
       "<img src=\"people_buy_computers.png\"/>"
      ],
      "text/plain": [
       "<IPython.core.display.Image object>"
      ]
     },
     "execution_count": 89,
     "metadata": {},
     "output_type": "execute_result"
    }
   ],
   "source": [
    "# Import decision tree classification result as png \n",
    "# (png was created from dot file using webgraphviz.com)\n",
    "img_two = 'people_buy_computers.png'\n",
    "Image(url = img_two)"
   ]
  },
  {
   "cell_type": "markdown",
   "id": "787c432c",
   "metadata": {},
   "source": [
    "The decision tree derived by Sklearn decision tree is turned upside down compared to the result from exercise 1, where the decision tree was derived by hand. "
   ]
  }
 ],
 "metadata": {
  "kernelspec": {
   "display_name": "Python 3 (ipykernel)",
   "language": "python",
   "name": "python3"
  },
  "language_info": {
   "codemirror_mode": {
    "name": "ipython",
    "version": 3
   },
   "file_extension": ".py",
   "mimetype": "text/x-python",
   "name": "python",
   "nbconvert_exporter": "python",
   "pygments_lexer": "ipython3",
   "version": "3.8.10"
  }
 },
 "nbformat": 4,
 "nbformat_minor": 5
}
